{
 "cells": [
  {
   "cell_type": "code",
   "execution_count": 1,
   "id": "783e5bee",
   "metadata": {},
   "outputs": [
    {
     "name": "stdout",
     "output_type": "stream",
     "text": [
      "zsh:1: command not found: python\n"
     ]
    }
   ],
   "source": [
    "!python -m venv venv"
   ]
  },
  {
   "cell_type": "code",
   "execution_count": 2,
   "id": "61319db0",
   "metadata": {},
   "outputs": [
    {
     "name": "stdout",
     "output_type": "stream",
     "text": [
      "zsh:1: command not found: venvScriptsactivate\n"
     ]
    }
   ],
   "source": [
    "!venv\\Scripts\\activate"
   ]
  },
  {
   "cell_type": "code",
   "execution_count": 3,
   "id": "3ed5ef90",
   "metadata": {},
   "outputs": [
    {
     "name": "stdout",
     "output_type": "stream",
     "text": [
      "Defaulting to user installation because normal site-packages is not writeable\n",
      "Requirement already satisfied: openai==0.28 in /Users/samandar/Library/Python/3.9/lib/python/site-packages (0.28.0)\n",
      "Requirement already satisfied: requests>=2.20 in /Users/samandar/Library/Python/3.9/lib/python/site-packages (from openai==0.28) (2.32.3)\n",
      "Requirement already satisfied: tqdm in /Users/samandar/Library/Python/3.9/lib/python/site-packages (from openai==0.28) (4.67.1)\n",
      "Requirement already satisfied: aiohttp in /Users/samandar/Library/Python/3.9/lib/python/site-packages (from openai==0.28) (3.11.18)\n",
      "Requirement already satisfied: charset-normalizer<4,>=2 in /Users/samandar/Library/Python/3.9/lib/python/site-packages (from requests>=2.20->openai==0.28) (3.4.2)\n",
      "Requirement already satisfied: idna<4,>=2.5 in /Users/samandar/Library/Python/3.9/lib/python/site-packages (from requests>=2.20->openai==0.28) (3.10)\n",
      "Requirement already satisfied: urllib3<3,>=1.21.1 in /Users/samandar/Library/Python/3.9/lib/python/site-packages (from requests>=2.20->openai==0.28) (2.4.0)\n",
      "Requirement already satisfied: certifi>=2017.4.17 in /Users/samandar/Library/Python/3.9/lib/python/site-packages (from requests>=2.20->openai==0.28) (2025.4.26)\n",
      "Requirement already satisfied: aiohappyeyeballs>=2.3.0 in /Users/samandar/Library/Python/3.9/lib/python/site-packages (from aiohttp->openai==0.28) (2.6.1)\n",
      "Requirement already satisfied: aiosignal>=1.1.2 in /Users/samandar/Library/Python/3.9/lib/python/site-packages (from aiohttp->openai==0.28) (1.3.2)\n",
      "Requirement already satisfied: async-timeout<6.0,>=4.0 in /Users/samandar/Library/Python/3.9/lib/python/site-packages (from aiohttp->openai==0.28) (5.0.1)\n",
      "Requirement already satisfied: attrs>=17.3.0 in /Users/samandar/Library/Python/3.9/lib/python/site-packages (from aiohttp->openai==0.28) (25.3.0)\n",
      "Requirement already satisfied: frozenlist>=1.1.1 in /Users/samandar/Library/Python/3.9/lib/python/site-packages (from aiohttp->openai==0.28) (1.6.0)\n",
      "Requirement already satisfied: multidict<7.0,>=4.5 in /Users/samandar/Library/Python/3.9/lib/python/site-packages (from aiohttp->openai==0.28) (6.4.3)\n",
      "Requirement already satisfied: propcache>=0.2.0 in /Users/samandar/Library/Python/3.9/lib/python/site-packages (from aiohttp->openai==0.28) (0.3.1)\n",
      "Requirement already satisfied: yarl<2.0,>=1.17.0 in /Users/samandar/Library/Python/3.9/lib/python/site-packages (from aiohttp->openai==0.28) (1.20.0)\n",
      "Requirement already satisfied: typing-extensions>=4.1.0 in /Users/samandar/Library/Python/3.9/lib/python/site-packages (from multidict<7.0,>=4.5->aiohttp->openai==0.28) (4.13.2)\n",
      "Note: you may need to restart the kernel to use updated packages.\n"
     ]
    }
   ],
   "source": [
    "%pip install openai==0.28"
   ]
  },
  {
   "cell_type": "code",
   "execution_count": 4,
   "id": "58a927df",
   "metadata": {},
   "outputs": [
    {
     "name": "stdout",
     "output_type": "stream",
     "text": [
      "Defaulting to user installation because normal site-packages is not writeable\n",
      "Requirement already satisfied: streamlit in /Users/samandar/Library/Python/3.9/lib/python/site-packages (1.45.1)\n",
      "Requirement already satisfied: altair<6,>=4.0 in /Users/samandar/Library/Python/3.9/lib/python/site-packages (from streamlit) (5.5.0)\n",
      "Requirement already satisfied: blinker<2,>=1.5.0 in /Users/samandar/Library/Python/3.9/lib/python/site-packages (from streamlit) (1.9.0)\n",
      "Requirement already satisfied: cachetools<6,>=4.0 in /Users/samandar/Library/Python/3.9/lib/python/site-packages (from streamlit) (5.5.2)\n",
      "Requirement already satisfied: click<9,>=7.0 in /Users/samandar/Library/Python/3.9/lib/python/site-packages (from streamlit) (8.1.8)\n",
      "Requirement already satisfied: numpy<3,>=1.23 in /Users/samandar/Library/Python/3.9/lib/python/site-packages (from streamlit) (2.0.2)\n",
      "Requirement already satisfied: packaging<25,>=20 in /Users/samandar/Library/Python/3.9/lib/python/site-packages (from streamlit) (24.2)\n",
      "Requirement already satisfied: pandas<3,>=1.4.0 in /Users/samandar/Library/Python/3.9/lib/python/site-packages (from streamlit) (2.2.3)\n",
      "Requirement already satisfied: pillow<12,>=7.1.0 in /Users/samandar/Library/Python/3.9/lib/python/site-packages (from streamlit) (11.2.1)\n",
      "Requirement already satisfied: protobuf<7,>=3.20 in /Users/samandar/Library/Python/3.9/lib/python/site-packages (from streamlit) (6.31.0)\n",
      "Requirement already satisfied: pyarrow>=7.0 in /Users/samandar/Library/Python/3.9/lib/python/site-packages (from streamlit) (20.0.0)\n",
      "Requirement already satisfied: requests<3,>=2.27 in /Users/samandar/Library/Python/3.9/lib/python/site-packages (from streamlit) (2.32.3)\n",
      "Requirement already satisfied: tenacity<10,>=8.1.0 in /Users/samandar/Library/Python/3.9/lib/python/site-packages (from streamlit) (9.1.2)\n",
      "Requirement already satisfied: toml<2,>=0.10.1 in /Users/samandar/Library/Python/3.9/lib/python/site-packages (from streamlit) (0.10.2)\n",
      "Requirement already satisfied: typing-extensions<5,>=4.4.0 in /Users/samandar/Library/Python/3.9/lib/python/site-packages (from streamlit) (4.13.2)\n",
      "Requirement already satisfied: gitpython!=3.1.19,<4,>=3.0.7 in /Users/samandar/Library/Python/3.9/lib/python/site-packages (from streamlit) (3.1.44)\n",
      "Requirement already satisfied: pydeck<1,>=0.8.0b4 in /Users/samandar/Library/Python/3.9/lib/python/site-packages (from streamlit) (0.9.1)\n",
      "Requirement already satisfied: tornado<7,>=6.0.3 in /Users/samandar/Library/Python/3.9/lib/python/site-packages (from streamlit) (6.5)\n",
      "Requirement already satisfied: jinja2 in /Users/samandar/Library/Python/3.9/lib/python/site-packages (from altair<6,>=4.0->streamlit) (3.1.6)\n",
      "Requirement already satisfied: jsonschema>=3.0 in /Users/samandar/Library/Python/3.9/lib/python/site-packages (from altair<6,>=4.0->streamlit) (4.23.0)\n",
      "Requirement already satisfied: narwhals>=1.14.2 in /Users/samandar/Library/Python/3.9/lib/python/site-packages (from altair<6,>=4.0->streamlit) (1.39.1)\n",
      "Requirement already satisfied: gitdb<5,>=4.0.1 in /Users/samandar/Library/Python/3.9/lib/python/site-packages (from gitpython!=3.1.19,<4,>=3.0.7->streamlit) (4.0.12)\n",
      "Requirement already satisfied: smmap<6,>=3.0.1 in /Users/samandar/Library/Python/3.9/lib/python/site-packages (from gitdb<5,>=4.0.1->gitpython!=3.1.19,<4,>=3.0.7->streamlit) (5.0.2)\n",
      "Requirement already satisfied: python-dateutil>=2.8.2 in /Users/samandar/Library/Python/3.9/lib/python/site-packages (from pandas<3,>=1.4.0->streamlit) (2.9.0.post0)\n",
      "Requirement already satisfied: pytz>=2020.1 in /Users/samandar/Library/Python/3.9/lib/python/site-packages (from pandas<3,>=1.4.0->streamlit) (2025.2)\n",
      "Requirement already satisfied: tzdata>=2022.7 in /Users/samandar/Library/Python/3.9/lib/python/site-packages (from pandas<3,>=1.4.0->streamlit) (2025.2)\n",
      "Requirement already satisfied: charset-normalizer<4,>=2 in /Users/samandar/Library/Python/3.9/lib/python/site-packages (from requests<3,>=2.27->streamlit) (3.4.2)\n",
      "Requirement already satisfied: idna<4,>=2.5 in /Users/samandar/Library/Python/3.9/lib/python/site-packages (from requests<3,>=2.27->streamlit) (3.10)\n",
      "Requirement already satisfied: urllib3<3,>=1.21.1 in /Users/samandar/Library/Python/3.9/lib/python/site-packages (from requests<3,>=2.27->streamlit) (2.4.0)\n",
      "Requirement already satisfied: certifi>=2017.4.17 in /Users/samandar/Library/Python/3.9/lib/python/site-packages (from requests<3,>=2.27->streamlit) (2025.4.26)\n",
      "Requirement already satisfied: MarkupSafe>=2.0 in /Users/samandar/Library/Python/3.9/lib/python/site-packages (from jinja2->altair<6,>=4.0->streamlit) (3.0.2)\n",
      "Requirement already satisfied: attrs>=22.2.0 in /Users/samandar/Library/Python/3.9/lib/python/site-packages (from jsonschema>=3.0->altair<6,>=4.0->streamlit) (25.3.0)\n",
      "Requirement already satisfied: jsonschema-specifications>=2023.03.6 in /Users/samandar/Library/Python/3.9/lib/python/site-packages (from jsonschema>=3.0->altair<6,>=4.0->streamlit) (2025.4.1)\n",
      "Requirement already satisfied: referencing>=0.28.4 in /Users/samandar/Library/Python/3.9/lib/python/site-packages (from jsonschema>=3.0->altair<6,>=4.0->streamlit) (0.36.2)\n",
      "Requirement already satisfied: rpds-py>=0.7.1 in /Users/samandar/Library/Python/3.9/lib/python/site-packages (from jsonschema>=3.0->altair<6,>=4.0->streamlit) (0.25.0)\n",
      "Requirement already satisfied: six>=1.5 in /Library/Developer/CommandLineTools/Library/Frameworks/Python3.framework/Versions/3.9/lib/python3.9/site-packages (from python-dateutil>=2.8.2->pandas<3,>=1.4.0->streamlit) (1.15.0)\n",
      "Note: you may need to restart the kernel to use updated packages.\n"
     ]
    }
   ],
   "source": [
    "%pip install streamlit"
   ]
  },
  {
   "cell_type": "code",
   "execution_count": 5,
   "id": "284ee063",
   "metadata": {},
   "outputs": [
    {
     "name": "stdout",
     "output_type": "stream",
     "text": [
      "Defaulting to user installation because normal site-packages is not writeable\n",
      "Requirement already satisfied: openai in /Users/samandar/Library/Python/3.9/lib/python/site-packages (0.28.0)\n",
      "Requirement already satisfied: requests>=2.20 in /Users/samandar/Library/Python/3.9/lib/python/site-packages (from openai) (2.32.3)\n",
      "Requirement already satisfied: tqdm in /Users/samandar/Library/Python/3.9/lib/python/site-packages (from openai) (4.67.1)\n",
      "Requirement already satisfied: aiohttp in /Users/samandar/Library/Python/3.9/lib/python/site-packages (from openai) (3.11.18)\n",
      "Requirement already satisfied: charset-normalizer<4,>=2 in /Users/samandar/Library/Python/3.9/lib/python/site-packages (from requests>=2.20->openai) (3.4.2)\n",
      "Requirement already satisfied: idna<4,>=2.5 in /Users/samandar/Library/Python/3.9/lib/python/site-packages (from requests>=2.20->openai) (3.10)\n",
      "Requirement already satisfied: urllib3<3,>=1.21.1 in /Users/samandar/Library/Python/3.9/lib/python/site-packages (from requests>=2.20->openai) (2.4.0)\n",
      "Requirement already satisfied: certifi>=2017.4.17 in /Users/samandar/Library/Python/3.9/lib/python/site-packages (from requests>=2.20->openai) (2025.4.26)\n",
      "Requirement already satisfied: aiohappyeyeballs>=2.3.0 in /Users/samandar/Library/Python/3.9/lib/python/site-packages (from aiohttp->openai) (2.6.1)\n",
      "Requirement already satisfied: aiosignal>=1.1.2 in /Users/samandar/Library/Python/3.9/lib/python/site-packages (from aiohttp->openai) (1.3.2)\n",
      "Requirement already satisfied: async-timeout<6.0,>=4.0 in /Users/samandar/Library/Python/3.9/lib/python/site-packages (from aiohttp->openai) (5.0.1)\n",
      "Requirement already satisfied: attrs>=17.3.0 in /Users/samandar/Library/Python/3.9/lib/python/site-packages (from aiohttp->openai) (25.3.0)\n",
      "Requirement already satisfied: frozenlist>=1.1.1 in /Users/samandar/Library/Python/3.9/lib/python/site-packages (from aiohttp->openai) (1.6.0)\n",
      "Requirement already satisfied: multidict<7.0,>=4.5 in /Users/samandar/Library/Python/3.9/lib/python/site-packages (from aiohttp->openai) (6.4.3)\n",
      "Requirement already satisfied: propcache>=0.2.0 in /Users/samandar/Library/Python/3.9/lib/python/site-packages (from aiohttp->openai) (0.3.1)\n",
      "Requirement already satisfied: yarl<2.0,>=1.17.0 in /Users/samandar/Library/Python/3.9/lib/python/site-packages (from aiohttp->openai) (1.20.0)\n",
      "Requirement already satisfied: typing-extensions>=4.1.0 in /Users/samandar/Library/Python/3.9/lib/python/site-packages (from multidict<7.0,>=4.5->aiohttp->openai) (4.13.2)\n",
      "Note: you may need to restart the kernel to use updated packages.\n"
     ]
    }
   ],
   "source": [
    "%pip install openai"
   ]
  },
  {
   "cell_type": "code",
   "execution_count": 6,
   "id": "89010f0f",
   "metadata": {},
   "outputs": [
    {
     "name": "stdout",
     "output_type": "stream",
     "text": [
      "Defaulting to user installation because normal site-packages is not writeable\n",
      "Requirement already satisfied: python-dotenv in /Users/samandar/Library/Python/3.9/lib/python/site-packages (1.1.0)\n",
      "Note: you may need to restart the kernel to use updated packages.\n"
     ]
    }
   ],
   "source": [
    "%pip install python-dotenv"
   ]
  },
  {
   "cell_type": "code",
   "execution_count": 7,
   "id": "5d5d4953",
   "metadata": {},
   "outputs": [
    {
     "name": "stdout",
     "output_type": "stream",
     "text": [
      "Defaulting to user installation because normal site-packages is not writeable\n",
      "Requirement already satisfied: streamlit in /Users/samandar/Library/Python/3.9/lib/python/site-packages (1.45.1)\n",
      "Requirement already satisfied: openai in /Users/samandar/Library/Python/3.9/lib/python/site-packages (0.28.0)\n",
      "Requirement already satisfied: altair<6,>=4.0 in /Users/samandar/Library/Python/3.9/lib/python/site-packages (from streamlit) (5.5.0)\n",
      "Requirement already satisfied: blinker<2,>=1.5.0 in /Users/samandar/Library/Python/3.9/lib/python/site-packages (from streamlit) (1.9.0)\n",
      "Requirement already satisfied: cachetools<6,>=4.0 in /Users/samandar/Library/Python/3.9/lib/python/site-packages (from streamlit) (5.5.2)\n",
      "Requirement already satisfied: click<9,>=7.0 in /Users/samandar/Library/Python/3.9/lib/python/site-packages (from streamlit) (8.1.8)\n",
      "Requirement already satisfied: numpy<3,>=1.23 in /Users/samandar/Library/Python/3.9/lib/python/site-packages (from streamlit) (2.0.2)\n",
      "Requirement already satisfied: packaging<25,>=20 in /Users/samandar/Library/Python/3.9/lib/python/site-packages (from streamlit) (24.2)\n",
      "Requirement already satisfied: pandas<3,>=1.4.0 in /Users/samandar/Library/Python/3.9/lib/python/site-packages (from streamlit) (2.2.3)\n",
      "Requirement already satisfied: pillow<12,>=7.1.0 in /Users/samandar/Library/Python/3.9/lib/python/site-packages (from streamlit) (11.2.1)\n",
      "Requirement already satisfied: protobuf<7,>=3.20 in /Users/samandar/Library/Python/3.9/lib/python/site-packages (from streamlit) (6.31.0)\n",
      "Requirement already satisfied: pyarrow>=7.0 in /Users/samandar/Library/Python/3.9/lib/python/site-packages (from streamlit) (20.0.0)\n",
      "Requirement already satisfied: requests<3,>=2.27 in /Users/samandar/Library/Python/3.9/lib/python/site-packages (from streamlit) (2.32.3)\n",
      "Requirement already satisfied: tenacity<10,>=8.1.0 in /Users/samandar/Library/Python/3.9/lib/python/site-packages (from streamlit) (9.1.2)\n",
      "Requirement already satisfied: toml<2,>=0.10.1 in /Users/samandar/Library/Python/3.9/lib/python/site-packages (from streamlit) (0.10.2)\n",
      "Requirement already satisfied: typing-extensions<5,>=4.4.0 in /Users/samandar/Library/Python/3.9/lib/python/site-packages (from streamlit) (4.13.2)\n",
      "Requirement already satisfied: gitpython!=3.1.19,<4,>=3.0.7 in /Users/samandar/Library/Python/3.9/lib/python/site-packages (from streamlit) (3.1.44)\n",
      "Requirement already satisfied: pydeck<1,>=0.8.0b4 in /Users/samandar/Library/Python/3.9/lib/python/site-packages (from streamlit) (0.9.1)\n",
      "Requirement already satisfied: tornado<7,>=6.0.3 in /Users/samandar/Library/Python/3.9/lib/python/site-packages (from streamlit) (6.5)\n",
      "Requirement already satisfied: jinja2 in /Users/samandar/Library/Python/3.9/lib/python/site-packages (from altair<6,>=4.0->streamlit) (3.1.6)\n",
      "Requirement already satisfied: jsonschema>=3.0 in /Users/samandar/Library/Python/3.9/lib/python/site-packages (from altair<6,>=4.0->streamlit) (4.23.0)\n",
      "Requirement already satisfied: narwhals>=1.14.2 in /Users/samandar/Library/Python/3.9/lib/python/site-packages (from altair<6,>=4.0->streamlit) (1.39.1)\n",
      "Requirement already satisfied: gitdb<5,>=4.0.1 in /Users/samandar/Library/Python/3.9/lib/python/site-packages (from gitpython!=3.1.19,<4,>=3.0.7->streamlit) (4.0.12)\n",
      "Requirement already satisfied: smmap<6,>=3.0.1 in /Users/samandar/Library/Python/3.9/lib/python/site-packages (from gitdb<5,>=4.0.1->gitpython!=3.1.19,<4,>=3.0.7->streamlit) (5.0.2)\n",
      "Requirement already satisfied: python-dateutil>=2.8.2 in /Users/samandar/Library/Python/3.9/lib/python/site-packages (from pandas<3,>=1.4.0->streamlit) (2.9.0.post0)\n",
      "Requirement already satisfied: pytz>=2020.1 in /Users/samandar/Library/Python/3.9/lib/python/site-packages (from pandas<3,>=1.4.0->streamlit) (2025.2)\n",
      "Requirement already satisfied: tzdata>=2022.7 in /Users/samandar/Library/Python/3.9/lib/python/site-packages (from pandas<3,>=1.4.0->streamlit) (2025.2)\n",
      "Requirement already satisfied: charset-normalizer<4,>=2 in /Users/samandar/Library/Python/3.9/lib/python/site-packages (from requests<3,>=2.27->streamlit) (3.4.2)\n",
      "Requirement already satisfied: idna<4,>=2.5 in /Users/samandar/Library/Python/3.9/lib/python/site-packages (from requests<3,>=2.27->streamlit) (3.10)\n",
      "Requirement already satisfied: urllib3<3,>=1.21.1 in /Users/samandar/Library/Python/3.9/lib/python/site-packages (from requests<3,>=2.27->streamlit) (2.4.0)\n",
      "Requirement already satisfied: certifi>=2017.4.17 in /Users/samandar/Library/Python/3.9/lib/python/site-packages (from requests<3,>=2.27->streamlit) (2025.4.26)\n",
      "Requirement already satisfied: tqdm in /Users/samandar/Library/Python/3.9/lib/python/site-packages (from openai) (4.67.1)\n",
      "Requirement already satisfied: aiohttp in /Users/samandar/Library/Python/3.9/lib/python/site-packages (from openai) (3.11.18)\n",
      "Requirement already satisfied: MarkupSafe>=2.0 in /Users/samandar/Library/Python/3.9/lib/python/site-packages (from jinja2->altair<6,>=4.0->streamlit) (3.0.2)\n",
      "Requirement already satisfied: attrs>=22.2.0 in /Users/samandar/Library/Python/3.9/lib/python/site-packages (from jsonschema>=3.0->altair<6,>=4.0->streamlit) (25.3.0)\n",
      "Requirement already satisfied: jsonschema-specifications>=2023.03.6 in /Users/samandar/Library/Python/3.9/lib/python/site-packages (from jsonschema>=3.0->altair<6,>=4.0->streamlit) (2025.4.1)\n",
      "Requirement already satisfied: referencing>=0.28.4 in /Users/samandar/Library/Python/3.9/lib/python/site-packages (from jsonschema>=3.0->altair<6,>=4.0->streamlit) (0.36.2)\n",
      "Requirement already satisfied: rpds-py>=0.7.1 in /Users/samandar/Library/Python/3.9/lib/python/site-packages (from jsonschema>=3.0->altair<6,>=4.0->streamlit) (0.25.0)\n",
      "Requirement already satisfied: six>=1.5 in /Library/Developer/CommandLineTools/Library/Frameworks/Python3.framework/Versions/3.9/lib/python3.9/site-packages (from python-dateutil>=2.8.2->pandas<3,>=1.4.0->streamlit) (1.15.0)\n",
      "Requirement already satisfied: aiohappyeyeballs>=2.3.0 in /Users/samandar/Library/Python/3.9/lib/python/site-packages (from aiohttp->openai) (2.6.1)\n",
      "Requirement already satisfied: aiosignal>=1.1.2 in /Users/samandar/Library/Python/3.9/lib/python/site-packages (from aiohttp->openai) (1.3.2)\n",
      "Requirement already satisfied: async-timeout<6.0,>=4.0 in /Users/samandar/Library/Python/3.9/lib/python/site-packages (from aiohttp->openai) (5.0.1)\n",
      "Requirement already satisfied: frozenlist>=1.1.1 in /Users/samandar/Library/Python/3.9/lib/python/site-packages (from aiohttp->openai) (1.6.0)\n",
      "Requirement already satisfied: multidict<7.0,>=4.5 in /Users/samandar/Library/Python/3.9/lib/python/site-packages (from aiohttp->openai) (6.4.3)\n",
      "Requirement already satisfied: propcache>=0.2.0 in /Users/samandar/Library/Python/3.9/lib/python/site-packages (from aiohttp->openai) (0.3.1)\n",
      "Requirement already satisfied: yarl<2.0,>=1.17.0 in /Users/samandar/Library/Python/3.9/lib/python/site-packages (from aiohttp->openai) (1.20.0)\n",
      "Note: you may need to restart the kernel to use updated packages.\n"
     ]
    }
   ],
   "source": [
    "%pip install streamlit openai"
   ]
  },
  {
   "cell_type": "code",
   "execution_count": 8,
   "id": "0fcf2106",
   "metadata": {},
   "outputs": [
    {
     "name": "stdout",
     "output_type": "stream",
     "text": [
      "Defaulting to user installation because normal site-packages is not writeable\n",
      "Requirement already satisfied: streamlit in /Users/samandar/Library/Python/3.9/lib/python/site-packages (1.45.1)\n",
      "Requirement already satisfied: altair<6,>=4.0 in /Users/samandar/Library/Python/3.9/lib/python/site-packages (from streamlit) (5.5.0)\n",
      "Requirement already satisfied: blinker<2,>=1.5.0 in /Users/samandar/Library/Python/3.9/lib/python/site-packages (from streamlit) (1.9.0)\n",
      "Requirement already satisfied: cachetools<6,>=4.0 in /Users/samandar/Library/Python/3.9/lib/python/site-packages (from streamlit) (5.5.2)\n",
      "Requirement already satisfied: click<9,>=7.0 in /Users/samandar/Library/Python/3.9/lib/python/site-packages (from streamlit) (8.1.8)\n",
      "Requirement already satisfied: numpy<3,>=1.23 in /Users/samandar/Library/Python/3.9/lib/python/site-packages (from streamlit) (2.0.2)\n",
      "Requirement already satisfied: packaging<25,>=20 in /Users/samandar/Library/Python/3.9/lib/python/site-packages (from streamlit) (24.2)\n",
      "Requirement already satisfied: pandas<3,>=1.4.0 in /Users/samandar/Library/Python/3.9/lib/python/site-packages (from streamlit) (2.2.3)\n",
      "Requirement already satisfied: pillow<12,>=7.1.0 in /Users/samandar/Library/Python/3.9/lib/python/site-packages (from streamlit) (11.2.1)\n",
      "Requirement already satisfied: protobuf<7,>=3.20 in /Users/samandar/Library/Python/3.9/lib/python/site-packages (from streamlit) (6.31.0)\n",
      "Requirement already satisfied: pyarrow>=7.0 in /Users/samandar/Library/Python/3.9/lib/python/site-packages (from streamlit) (20.0.0)\n",
      "Requirement already satisfied: requests<3,>=2.27 in /Users/samandar/Library/Python/3.9/lib/python/site-packages (from streamlit) (2.32.3)\n",
      "Requirement already satisfied: tenacity<10,>=8.1.0 in /Users/samandar/Library/Python/3.9/lib/python/site-packages (from streamlit) (9.1.2)\n",
      "Requirement already satisfied: toml<2,>=0.10.1 in /Users/samandar/Library/Python/3.9/lib/python/site-packages (from streamlit) (0.10.2)\n",
      "Requirement already satisfied: typing-extensions<5,>=4.4.0 in /Users/samandar/Library/Python/3.9/lib/python/site-packages (from streamlit) (4.13.2)\n",
      "Requirement already satisfied: gitpython!=3.1.19,<4,>=3.0.7 in /Users/samandar/Library/Python/3.9/lib/python/site-packages (from streamlit) (3.1.44)\n",
      "Requirement already satisfied: pydeck<1,>=0.8.0b4 in /Users/samandar/Library/Python/3.9/lib/python/site-packages (from streamlit) (0.9.1)\n",
      "Requirement already satisfied: tornado<7,>=6.0.3 in /Users/samandar/Library/Python/3.9/lib/python/site-packages (from streamlit) (6.5)\n",
      "Requirement already satisfied: jinja2 in /Users/samandar/Library/Python/3.9/lib/python/site-packages (from altair<6,>=4.0->streamlit) (3.1.6)\n",
      "Requirement already satisfied: jsonschema>=3.0 in /Users/samandar/Library/Python/3.9/lib/python/site-packages (from altair<6,>=4.0->streamlit) (4.23.0)\n",
      "Requirement already satisfied: narwhals>=1.14.2 in /Users/samandar/Library/Python/3.9/lib/python/site-packages (from altair<6,>=4.0->streamlit) (1.39.1)\n",
      "Requirement already satisfied: gitdb<5,>=4.0.1 in /Users/samandar/Library/Python/3.9/lib/python/site-packages (from gitpython!=3.1.19,<4,>=3.0.7->streamlit) (4.0.12)\n",
      "Requirement already satisfied: smmap<6,>=3.0.1 in /Users/samandar/Library/Python/3.9/lib/python/site-packages (from gitdb<5,>=4.0.1->gitpython!=3.1.19,<4,>=3.0.7->streamlit) (5.0.2)\n",
      "Requirement already satisfied: python-dateutil>=2.8.2 in /Users/samandar/Library/Python/3.9/lib/python/site-packages (from pandas<3,>=1.4.0->streamlit) (2.9.0.post0)\n",
      "Requirement already satisfied: pytz>=2020.1 in /Users/samandar/Library/Python/3.9/lib/python/site-packages (from pandas<3,>=1.4.0->streamlit) (2025.2)\n",
      "Requirement already satisfied: tzdata>=2022.7 in /Users/samandar/Library/Python/3.9/lib/python/site-packages (from pandas<3,>=1.4.0->streamlit) (2025.2)\n",
      "Requirement already satisfied: charset-normalizer<4,>=2 in /Users/samandar/Library/Python/3.9/lib/python/site-packages (from requests<3,>=2.27->streamlit) (3.4.2)\n",
      "Requirement already satisfied: idna<4,>=2.5 in /Users/samandar/Library/Python/3.9/lib/python/site-packages (from requests<3,>=2.27->streamlit) (3.10)\n",
      "Requirement already satisfied: urllib3<3,>=1.21.1 in /Users/samandar/Library/Python/3.9/lib/python/site-packages (from requests<3,>=2.27->streamlit) (2.4.0)\n",
      "Requirement already satisfied: certifi>=2017.4.17 in /Users/samandar/Library/Python/3.9/lib/python/site-packages (from requests<3,>=2.27->streamlit) (2025.4.26)\n",
      "Requirement already satisfied: MarkupSafe>=2.0 in /Users/samandar/Library/Python/3.9/lib/python/site-packages (from jinja2->altair<6,>=4.0->streamlit) (3.0.2)\n",
      "Requirement already satisfied: attrs>=22.2.0 in /Users/samandar/Library/Python/3.9/lib/python/site-packages (from jsonschema>=3.0->altair<6,>=4.0->streamlit) (25.3.0)\n",
      "Requirement already satisfied: jsonschema-specifications>=2023.03.6 in /Users/samandar/Library/Python/3.9/lib/python/site-packages (from jsonschema>=3.0->altair<6,>=4.0->streamlit) (2025.4.1)\n",
      "Requirement already satisfied: referencing>=0.28.4 in /Users/samandar/Library/Python/3.9/lib/python/site-packages (from jsonschema>=3.0->altair<6,>=4.0->streamlit) (0.36.2)\n",
      "Requirement already satisfied: rpds-py>=0.7.1 in /Users/samandar/Library/Python/3.9/lib/python/site-packages (from jsonschema>=3.0->altair<6,>=4.0->streamlit) (0.25.0)\n",
      "Requirement already satisfied: six>=1.5 in /Library/Developer/CommandLineTools/Library/Frameworks/Python3.framework/Versions/3.9/lib/python3.9/site-packages (from python-dateutil>=2.8.2->pandas<3,>=1.4.0->streamlit) (1.15.0)\n",
      "Note: you may need to restart the kernel to use updated packages.\n"
     ]
    }
   ],
   "source": [
    "%pip install streamlit\n"
   ]
  }
 ],
 "metadata": {
  "kernelspec": {
   "display_name": "Python 3",
   "language": "python",
   "name": "python3"
  },
  "language_info": {
   "codemirror_mode": {
    "name": "ipython",
    "version": 3
   },
   "file_extension": ".py",
   "mimetype": "text/x-python",
   "name": "python",
   "nbconvert_exporter": "python",
   "pygments_lexer": "ipython3",
   "version": "3.9.6"
  }
 },
 "nbformat": 4,
 "nbformat_minor": 5
}
